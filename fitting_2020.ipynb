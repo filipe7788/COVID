{
 "cells": [
  {
   "cell_type": "code",
   "execution_count": 5,
   "metadata": {},
   "outputs": [],
   "source": [
    "import pandas as pd\n",
    "import numpy as np\n",
    "import matplotlib.pyplot as plt\n",
    "from scipy.integrate import solve_ivp\n",
    "import emcee\n",
    "import csv"
   ]
  },
  {
   "cell_type": "markdown",
   "metadata": {
    "tags": []
   },
   "source": [
    "### Leitura dos dados\n",
    "\n",
    " Informações:\n",
    " \n",
    " -Os dados estão em formato diário, não acumulado.\n",
    "\n",
    " -As mortes são subgrupo dos hospitalizados.\n",
    "\n",
    " -O index onde termina 2020 é 264\n",
    " \n",
    " -O index onde acaba 2021 é 627\n",
    "\n",
    " -O início da vacinação se dá em 18/01/2021 (index 282)\n",
    "\n"
   ]
  },
  {
   "cell_type": "code",
   "execution_count": 6,
   "metadata": {},
   "outputs": [],
   "source": [
    "#Importando e separando os dados\n",
    "\n",
    "df = pd.read_csv(\"cleanned_data.csv\")\n",
    "date = df.Date.values\n",
    "\n",
    "daily_death = df.mortes.values\n",
    "daily_death_v = df.mortes_vacinados.values\n",
    "\n",
    "daily_cases = df.casos.values\n",
    "daily_cases_v = df.infectados_vacinados.values\n",
    "\n",
    "daily_hosp = df.hospitalizados.values\n",
    "daily_hosp_v = df.hospitalizados_vacinados.values\n",
    "\n",
    "daily_vac = df.vacinados.values\n",
    "\n",
    "\n",
    "#Aplicando a média móvel de 7 dias\n",
    "# a = daily_vac\n",
    "def media_movel(arr, janela):\n",
    "    return np.convolve(arr, np.ones(janela) / janela, mode='valid')\n",
    "\n",
    "daily_cases = media_movel(daily_cases,7)\n",
    "daily_cases_v = media_movel(daily_cases_v,7)\n",
    "daily_death = media_movel(daily_death,7)\n",
    "daily_death_v = media_movel(daily_death_v,7)\n",
    "daily_hosp = media_movel(daily_hosp,7)\n",
    "daily_hosp_v = media_movel(daily_hosp_v,7)\n",
    "\n",
    "\n",
    "#CORTANDO OS DADOS\n",
    "\n",
    "daily_cases_1 = daily_cases[0:150]\n",
    "daily_death_1 = daily_death[0:150]\n",
    "daily_hosp_1 = daily_hosp[0:150]\n",
    "\n",
    "daily_cases_2 = daily_cases[201:282]\n",
    "daily_death_2  = daily_death[201:282]\n",
    "daily_hosp_2 = daily_hosp[201:282]\n"
   ]
  },
  {
   "cell_type": "markdown",
   "metadata": {
    "tags": []
   },
   "source": [
    "### Fitting do modelo"
   ]
  },
  {
   "cell_type": "markdown",
   "metadata": {
    "tags": []
   },
   "source": [
    "#### Modelo 2020"
   ]
  },
  {
   "cell_type": "code",
   "execution_count": 7,
   "metadata": {},
   "outputs": [],
   "source": [
    "N = 14136417\n",
    "def model_2020(t, y,args):\n",
    "    \n",
    "    \n",
    "    b0, b1, t1, delta, k, h, p, gamma_h, mu_h = args\n",
    "    \n",
    "    if t <= t1:\n",
    "        beta = b0\n",
    "    else:\n",
    "        beta = b1\n",
    "    # #parâmetros fixos\n",
    "    gamma_s = 1/4\n",
    "    gamma_a = 1/3.5\n",
    "    \n",
    "    phi = 0\n",
    "    eps =0\n",
    "    \n",
    "    delta_av = 0\n",
    "    delta_sv = 0\n",
    "\n",
    "    gamma_s = 1/4\n",
    "    gamma_a = 1/3.5\n",
    "\n",
    "    gamma_av = 0\n",
    "    gamma_sv = 0\n",
    "    gamma_hv = 0\n",
    "    mu_hv = 0\n",
    "    \n",
    "    k_v = 0\n",
    "    p_v = 0\n",
    "    h_v = 0\n",
    "    \n",
    "    S, E, V, Sv, Ev, Ia, Is, Iav, Isv, H, Hv, R, D, C, Nh, CHv, Cv = y\n",
    "    \n",
    "    tau = 0\n",
    "    #suscetíveis e latentes\n",
    "    dSdt = -beta*S*(Is+delta*Ia+delta_av*Iav+delta_sv*Isv)/N - tau\n",
    "    dVdt = tau - phi*V \n",
    "    dEdt = beta*(Is+delta*Ia+delta_av*Iav+delta_sv*Isv)*S/N - k*E\n",
    "    dSvdt =  phi*V - (1-eps)*beta*Sv*(Is+delta*Ia+delta_av*Iav+delta_sv*Isv)/N\n",
    "    dEvdt = ((1-eps)*beta*Sv*(Is+delta*Ia+delta_av*Iav+delta_sv*Isv))/N - k_v*Ev\n",
    "    \n",
    "    #infectados\n",
    "    dIadt = (1-p)*k*E - gamma_a*Ia\n",
    "    dIsdt = p*k*E - gamma_s*Is\n",
    "    dHdt = h*gamma_s*Is - gamma_h*H - mu_h*H\n",
    "    \n",
    "    #infectados vacinados\n",
    "    dIavdt = (1-p_v)*k_v*Ev - gamma_av*Iav\n",
    "    dIsvdt = p_v*k_v*Ev - gamma_sv*Isv\n",
    "    dHvdt = h_v*gamma_sv*Isv - gamma_hv*Hv - mu_hv*Hv\n",
    "    \n",
    "    #recuperados\n",
    "    dRdt = gamma_a*Ia + gamma_av*Iav + (1-h)*gamma_s*Is + (1-h_v)*gamma_sv*Isv + gamma_h*H + gamma_hv*Hv\n",
    "    \n",
    "    #Óbitos\n",
    "    dDdt = mu_h*H + mu_hv*Hv\n",
    "    \n",
    "    #Curvas de crescimento\n",
    "    dCdt = p*k*E #infectados sintomáticos\n",
    "    dNHdt = h*gamma_s*Is #hospitalizados\n",
    "    dCHVdt = h_v*gamma_sv*Isv #hospitalizados vacinados\n",
    "    dCVdt = p_v*k_v*Ev #infectados vacinados\n",
    "    \n",
    "    return [dSdt, dEdt, dVdt, dSvdt, dEvdt, dIadt, dIsdt, dIavdt, dIsvdt, dHdt, dHvdt,dRdt,\n",
    "             dDdt, dCdt, dNHdt, dCHVdt, dCVdt]"
   ]
  },
  {
   "cell_type": "markdown",
   "metadata": {},
   "source": [
    "##### Parâmetros 2020"
   ]
  },
  {
   "cell_type": "code",
   "execution_count": 8,
   "metadata": {
    "tags": []
   },
   "outputs": [
    {
     "name": "stdout",
     "output_type": "stream",
     "text": [
      "Running burn-in...\n",
      "Running production...\n"
     ]
    },
    {
     "name": "stderr",
     "output_type": "stream",
     "text": [
      "100%|██████████| 300/300 [02:07<00:00,  2.36it/s]"
     ]
    },
    {
     "name": "stdout",
     "output_type": "stream",
     "text": [
      "Dados salvos em ./params_1.txt\n",
      "Dados salvos em ./condini_1.txt\n"
     ]
    },
    {
     "name": "stderr",
     "output_type": "stream",
     "text": [
      "\n"
     ]
    }
   ],
   "source": [
    "\n",
    "parametros = []\n",
    "saida = []\n",
    "\n",
    "intervals = np.array(   [ \n",
    "                            [0,    2.], # b0\n",
    "                            [0,    2.], # b1\n",
    "                            [0,    60], # t1\n",
    "                            [0.1,  0.75], # delta\n",
    "                            [1/6,  1/5], # k\n",
    "                            [0.05, 0.25], # h\n",
    "                            [0.1,  0.5], # p\n",
    "                            [1/6,  1/3], # gamma_h\n",
    "                            [0.05, 0.3], # mu_h\n",
    "                            [1,    100] # i0\n",
    "                        ])\n",
    "\n",
    "def lnprior(theta):\n",
    "    b0, b1, t1, delta, k, h, p, gamma_h, mu_h, i0 = theta\n",
    "\n",
    "    if (    intervals[0,0]<   b0        < intervals[0,1]\n",
    "        and intervals[1,0]<   b1     < intervals[1,1]\n",
    "        and intervals[2,0]<   t1         < intervals[2,1]\n",
    "        and intervals[3,0]<   delta         < intervals[3,1]\n",
    "        and intervals[4,0]<   k         < intervals[4,1]\n",
    "        and intervals[5,0]<   h   < intervals[5,1]\n",
    "        and intervals[6,0]<   p      < intervals[6,1]\n",
    "        and intervals[7,0]<   gamma_h        < intervals[7,1]\n",
    "        and intervals[8,0]<   mu_h        < intervals[8,1]\n",
    "        and intervals[9,0]<   i0        < intervals[9,1]\n",
    "    ):\n",
    "        return 0.0\n",
    "    return -np.inf\n",
    "\n",
    "def model(theta):\n",
    "    b0, b1, t1, delta, k, h, p, gamma_h, mu_h, i0 = theta\n",
    "    params =  b0, b1, t1, delta, k, h, p, gamma_h, mu_h\n",
    "    sol = solve_ivp(fun = model_2020, t_span = [0, len(daily_cases_1)], args=(params,),\n",
    "                    y0=[N-i0,0,0,0,0,0,i0,0,0,0,0,0,0,i0,0,0,0], t_eval = np.arange(len(daily_cases_1)))\n",
    "\n",
    "\n",
    "    casos_model =       (sol.y[-4,:]).astype(float)\n",
    "    mortes_model =      (sol.y[-5,:]).astype(float)\n",
    "    hosp_model =        (sol.y[-3,:]).astype(float)\n",
    "\n",
    "\n",
    "    return np.r_[casos_model, mortes_model, hosp_model]\n",
    "\n",
    "def lnlike(theta):\n",
    "    \n",
    "    cases_cumu = np.cumsum(daily_cases_1)\n",
    "    death_cumu = np.cumsum(daily_death_1)\n",
    "    hosp_cumu = np.cumsum(daily_hosp_1)\n",
    "    \n",
    "    y_data = np.r_[cases_cumu, death_cumu, hosp_cumu]\n",
    "    model_results = model(theta)\n",
    "    \n",
    "    return -0.5 * np.sum(((y_data[:len(model_results)] - model_results)/0.05) ** 2)\n",
    "\n",
    "def lnprob(theta):\n",
    "    lp = lnprior(theta)\n",
    "    if not np.isfinite(lp):\n",
    "        return -np.inf\n",
    "    return lp + lnlike(theta)\n",
    "\n",
    "\n",
    "def main(p0,nwalkers,niter,ndim,lnprob):\n",
    "    sampler = emcee.EnsembleSampler(nwalkers, ndim, lnprob)\n",
    "\n",
    "    print(\"Running burn-in...\")\n",
    "    p0, _, _ = sampler.run_mcmc(p0, 100)\n",
    "    sampler.reset()\n",
    "\n",
    "    print(\"Running production...\")\n",
    "    pos, prob, state = sampler.run_mcmc(p0, niter,progress=True)\n",
    "\n",
    "    return sampler, pos, prob, state\n",
    "\n",
    "\n",
    "nwalkers = 200\n",
    "niter = 300\n",
    "\n",
    "par0 = np.random.rand(len(intervals))\n",
    "initial = intervals[:,0] + par0 * (intervals[:,1] - intervals[:,0])\n",
    "ndim = len(initial)\n",
    "p0 = [np.array(initial) + 1e-7 * np.random.randn(ndim) for i in range(nwalkers)]\n",
    "\n",
    "sampler1, pos1, prob1, state1 = main(p0,nwalkers,niter,ndim,lnprob)\n",
    "samples = sampler1.flatchain\n",
    "theta_max = samples[np.argmax(sampler1.flatlnprobability)]\n",
    "parametros.append([theta_max])\n",
    "\n",
    "b0, b1, t1, delta, k, h, p, gamma_h, mu_h, i0 = theta_max\n",
    "params =  b0, b1, t1, delta, k, h, p, gamma_h, mu_h\n",
    "sol = solve_ivp(fun = model_2020, t_span = [0, len(daily_cases_1)], args=(params,),\n",
    "                    y0=[N-i0,0,0,0,0,0,i0,0,0,0,0,0,0,i0,0,0,0], t_eval = np.arange(len(daily_cases_1)))\n",
    "\n",
    "last = []\n",
    "for q in range(17):\n",
    "    \n",
    "    last.append(sol.y[q][-1])\n",
    "\n",
    "saida.append([last])\n",
    "\n",
    "name1 = './params_1.txt'\n",
    "name2 = './condini_1.txt'\n",
    "\n",
    "# Escrevendo a lista de listas no arquivo CSV\n",
    "with open(name1, mode='w', newline='', encoding='utf-8') as arquivo_csv:\n",
    "    escritor_csv = csv.writer(arquivo_csv)\n",
    "    # Escrevendo as linhas da lista de listas\n",
    "    escritor_csv.writerows(parametros)\n",
    "\n",
    "print(f\"Dados salvos em {name1}\")\n",
    "\n",
    "with open(name2, mode='w', newline='', encoding='utf-8') as arquivo_csv:\n",
    "    escritor_csv = csv.writer(arquivo_csv)\n",
    "    # Escrevendo as linhas da lista de listas\n",
    "    escritor_csv.writerows(saida)\n",
    "\n",
    "print(f\"Dados salvos em {name2}\")"
   ]
  },
  {
   "cell_type": "code",
   "execution_count": 15,
   "metadata": {},
   "outputs": [],
   "source": [
    "import re\n",
    "par = []\n",
    "\n",
    "with open(name1) as f:\n",
    "    text = f.read()\n",
    "    par = [float(x) for x in re.findall(r'[-+]?\\d*\\.?\\d+[eE][-+]?\\d+', text)]"
   ]
  },
  {
   "cell_type": "code",
   "execution_count": null,
   "metadata": {
    "tags": []
   },
   "outputs": [
    {
     "name": "stdout",
     "output_type": "stream",
     "text": [
      "-38416216220899.12\n"
     ]
    },
    {
     "data": {
      "image/png": "[encoded data removed]",
      "text/plain": [
       "<Figure size 640x480 with 1 Axes>"
      ]
     },
     "metadata": {},
     "output_type": "display_data"
    },
    {
     "ename": "",
     "evalue": "",
     "output_type": "error",
     "traceback": [
      "\u001b[1;31mThe Kernel crashed while executing code in the current cell or a previous cell. \n",
      "\u001b[1;31mPlease review the code in the cell(s) to identify a possible cause of the failure. \n",
      "\u001b[1;31mClick <a href='https://aka.ms/vscodeJupyterKernelCrash'>here</a> for more info. \n",
      "\u001b[1;31mView Jupyter <a href='command:jupyter.viewOutput'>log</a> for further details."
     ]
    }
   ],
   "source": [
    "# b0, b1, t1, delta, k, h, p, gamma_h, mu_h, i0\n",
    "\n",
    "delta_arr = []\n",
    "k_arr = []\n",
    "p_arr = []\n",
    "gamma_h_arr = []\n",
    "mu_h_arr = []\n",
    "b0, b1, t1, delta, k, h, p, gamma_h, mu_h, i0 = par\n",
    "params =  b0, b1, t1, delta, k, h, p, gamma_h, mu_h\n",
    "sol = solve_ivp(fun = model_2020, t_span = [0, len(daily_cases_1)], args=(params,),\n",
    "                    y0=[N-i0,0,0,0,0,0,i0,0,0,0,0,0,0,i0,0,0,0], t_eval = np.arange(len(daily_cases_1)))\n",
    "\n",
    "cases_cumu = np.cumsum(daily_cases_1)\n",
    "death_cumu = (daily_death_1)\n",
    "hosp_cumu = np.cumsum(daily_hosp_1)\n",
    "\n",
    "y_data = np.r_[cases_cumu]\n",
    "model_results = np.r_[sol.y[-4]]\n",
    "\n",
    "plt.plot(np.arange(len(sol.y[-4])-1),np.diff(sol.y[-5]))\n",
    "plt.scatter(np.arange(len(sol.y[-4])), death_cumu,s=2.5, color='black')\n",
    "\n",
    "err = -0.5 * np.sum(((y_data[:len(model_results)] - model_results)/0.05) ** 2)\n",
    "print(err)"
   ]
  },
  {
   "cell_type": "code",
   "execution_count": 18,
   "metadata": {},
   "outputs": [
    {
     "data": {
      "text/plain": [
       "<matplotlib.collections.PathCollection at 0x1fb401b60f0>"
      ]
     },
     "execution_count": 18,
     "metadata": {},
     "output_type": "execute_result"
    },
    {
     "data": {
      "image/png": "[encoded data removed]",
      "text/plain": [
       "<Figure size 640x480 with 1 Axes>"
      ]
     },
     "metadata": {},
     "output_type": "display_data"
    }
   ],
   "source": [
    "plt.plot(np.arange(len(sol.y[-4])-1),np.diff(sol.y[-3]))\n",
    "plt.scatter(np.arange(len(sol.y[-4])-1),np.diff(hosp_cumu),s=2.5, color='k')"
   ]
  },
  {
   "cell_type": "code",
   "execution_count": 25,
   "metadata": {},
   "outputs": [
    {
     "data": {
      "text/plain": [
       "<matplotlib.collections.PathCollection at 0x1fb416692b0>"
      ]
     },
     "execution_count": 25,
     "metadata": {},
     "output_type": "execute_result"
    },
    {
     "data": {
      "image/png": "[encoded data removed]",
      "text/plain": [
       "<Figure size 640x480 with 1 Axes>"
      ]
     },
     "metadata": {},
     "output_type": "display_data"
    }
   ],
   "source": [
    "plt.plot(np.arange(len(sol.y[-4])-1),np.diff(sol.y[-4]))\n",
    "plt.scatter(np.arange(len(sol.y[-4])-1),np.diff(cases_cumu),s=2.5, color='k')"
   ]
  }
 ],
 "metadata": {
  "kernelspec": {
   "display_name": "Python 3",
   "language": "python",
   "name": "python3"
  },
  "language_info": {
   "codemirror_mode": {
    "name": "ipython",
    "version": 3
   },
   "file_extension": ".py",
   "mimetype": "text/x-python",
   "name": "python",
   "nbconvert_exporter": "python",
   "pygments_lexer": "ipython3",
   "version": "3.12.2"
  }
 },
 "nbformat": 4,
 "nbformat_minor": 4
}
